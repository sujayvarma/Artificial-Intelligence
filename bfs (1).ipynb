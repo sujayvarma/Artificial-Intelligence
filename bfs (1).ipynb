{
  "nbformat": 4,
  "nbformat_minor": 0,
  "metadata": {
    "colab": {
      "name": "bfs.ipynb",
      "provenance": [],
      "collapsed_sections": []
    },
    "kernelspec": {
      "name": "python3",
      "display_name": "Python 3"
    },
    "language_info": {
      "name": "python"
    }
  },
  "cells": [
    {
      "cell_type": "code",
      "metadata": {
        "id": "J-ENIXTKk9M_"
      },
      "source": [
        "ipfile = open(\"input.txt\", \"r\")\n",
        "input = ipfile.readlines()"
      ],
      "execution_count": null,
      "outputs": []
    },
    {
      "cell_type": "code",
      "metadata": {
        "id": "ZIrEpDd7k-D3"
      },
      "source": [
        "r1 = input[1]\n",
        "start = r1.split(' ')\n",
        "start[2] = start[2].split('\\n')[0]\n",
        " \n",
        "r2 = input[2]\n",
        "start2 = r2.split(' ')\n",
        "start = start + start2\n",
        "start[5] = start[5].split('\\n')[0]\n",
        " \n",
        "r3 = input[3]\n",
        "start3 = r3.split(' ')\n",
        "start = start + start3\n",
        "start[8] = start[8].split('\\n')[0]\n",
        " \n",
        "for n, i in enumerate(start):\n",
        "  if i == 'B':\n",
        "    start[n] = 0\n",
        " \n",
        "for i in range(0,9):\n",
        "  start[i] = int(start[i])"
      ],
      "execution_count": null,
      "outputs": []
    },
    {
      "cell_type": "code",
      "metadata": {
        "colab": {
          "base_uri": "https://localhost:8080/"
        },
        "id": "eycq_WzzsKOf",
        "outputId": "29f61420-173a-4904-dd82-41a3df84371d"
      },
      "source": [
        "print(start)"
      ],
      "execution_count": null,
      "outputs": [
        {
          "output_type": "stream",
          "name": "stdout",
          "text": [
            "[1, 2, 3, 0, 4, 6, 7, 5, 8]\n"
          ]
        }
      ]
    },
    {
      "cell_type": "code",
      "metadata": {
        "id": "OetEEdzYlIgu"
      },
      "source": [
        "g1 = input[6]\n",
        "goal = g1.split(' ')\n",
        "goal[2] = goal[2].split('\\n')[0]\n",
        " \n",
        "g2 = input[7]\n",
        "goal2 = g2.split(' ')\n",
        "goal = goal + goal2\n",
        "goal[5] = goal[5].split('\\n')[0]\n",
        " \n",
        "g3 = input[8]\n",
        "goal3 = g3.split(' ')\n",
        "goal = goal + goal3\n",
        "goal[8] = goal[8].split('\\n')[0]\n",
        " \n",
        "for n, i in enumerate(goal):\n",
        "  if i == 'B':\n",
        "    goal[n] = 0\n",
        "\n",
        "\n",
        "for i in range(0,9):\n",
        "  goal[i] = int(goal[i])"
      ],
      "execution_count": null,
      "outputs": []
    },
    {
      "cell_type": "code",
      "metadata": {
        "id": "Y5p1liM2WKLB"
      },
      "source": [
        "# Dictionary input if text file not workng\n",
        "# input = {\n",
        "#     'start':[6,7,3,8,4,2,1,0,5],\n",
        "#     'goal':[1,2,3,4,5,6,7,8,0],\n",
        "# }"
      ],
      "execution_count": null,
      "outputs": []
    },
    {
      "cell_type": "code",
      "metadata": {
        "id": "SnKy5exoWzGP"
      },
      "source": [
        "# start = input['start']\n",
        "# goal = input['goal']"
      ],
      "execution_count": null,
      "outputs": []
    },
    {
      "cell_type": "code",
      "metadata": {
        "id": "PUrXvzVulJkm",
        "colab": {
          "base_uri": "https://localhost:8080/"
        },
        "outputId": "46977759-97bb-4ffa-b2c3-f764ceeb9cd9"
      },
      "source": [
        "print(start)\n",
        "print(goal)"
      ],
      "execution_count": null,
      "outputs": [
        {
          "output_type": "stream",
          "name": "stdout",
          "text": [
            "[1, 2, 3, 0, 4, 6, 7, 5, 8]\n",
            "[1, 2, 3, 4, 5, 6, 7, 8, 0]\n"
          ]
        }
      ]
    },
    {
      "cell_type": "code",
      "metadata": {
        "id": "nxNd0Hm5IVhE",
        "colab": {
          "base_uri": "https://localhost:8080/"
        },
        "outputId": "38881f47-884b-4e96-f110-e9af3d37c0ff"
      },
      "source": [
        "print(\"Start state: \\n\")\n",
        "i=0\n",
        "while i<9:\n",
        "    if(i%3 == 0):\n",
        "      print(\"\\n\")\n",
        "    print(str(start[i]) + '   ' + str(start[i+1]) + '   ' + str(start[i+2]))\n",
        "    i=i+3"
      ],
      "execution_count": null,
      "outputs": [
        {
          "output_type": "stream",
          "name": "stdout",
          "text": [
            "Start state: \n",
            "\n",
            "\n",
            "\n",
            "1   2   3\n",
            "\n",
            "\n",
            "0   4   6\n",
            "\n",
            "\n",
            "7   5   8\n"
          ]
        }
      ]
    },
    {
      "cell_type": "code",
      "metadata": {
        "id": "ByHexCu0IYaM",
        "colab": {
          "base_uri": "https://localhost:8080/"
        },
        "outputId": "6b3ce5e1-6dc4-454f-ebb4-2352458f8468"
      },
      "source": [
        "print(\"Goal state: \\n\")\n",
        "i=0\n",
        "while i<9:\n",
        "    if(i%3 == 0):\n",
        "      print(\"\\n\")\n",
        "    print(str(goal[i]) + '   ' + str(goal[i+1]) + '   ' + str(goal[i+2]))\n",
        "    i=i+3"
      ],
      "execution_count": null,
      "outputs": [
        {
          "output_type": "stream",
          "name": "stdout",
          "text": [
            "Goal state: \n",
            "\n",
            "\n",
            "\n",
            "1   2   3\n",
            "\n",
            "\n",
            "4   5   6\n",
            "\n",
            "\n",
            "7   8   0\n"
          ]
        }
      ]
    },
    {
      "cell_type": "code",
      "metadata": {
        "id": "m7mOwvJTIOZt"
      },
      "source": [
        "# f(n) = h(n)\n",
        "def getHeuristicMisplacedTiles(start, goal):\n",
        "  h = 0;\n",
        "  for i in range(0,9):\n",
        "    if start[i] != goal[i] and start[i]!=0:\n",
        "      h=h+1\n",
        "  return h"
      ],
      "execution_count": null,
      "outputs": []
    },
    {
      "cell_type": "markdown",
      "metadata": {
        "id": "qDTnjL9gNnFl"
      },
      "source": [
        ""
      ]
    },
    {
      "cell_type": "code",
      "metadata": {
        "id": "zEi9jVKiNmcI"
      },
      "source": [
        "def getHeuristicManhattanDistance(start, goal):\n",
        "  return sum(abs(b%3 - g%3) + abs(b//3 - g//3)\n",
        "        for b, g in ((start.index(i), goal.index(i)) for i in range(1, 9)))"
      ],
      "execution_count": null,
      "outputs": []
    },
    {
      "cell_type": "code",
      "metadata": {
        "id": "molpnqOwMoEL"
      },
      "source": [
        "open = []\n",
        "closed = []\n",
        "cost = []\n",
        "optimalCost = 0"
      ],
      "execution_count": null,
      "outputs": []
    },
    {
      "cell_type": "code",
      "metadata": {
        "id": "N5_ikKT3ceWX"
      },
      "source": [
        "open.append(start)\n",
        "cost.append(getHeuristicMisplacedTiles(start, goal))"
      ],
      "execution_count": null,
      "outputs": []
    },
    {
      "cell_type": "code",
      "metadata": {
        "id": "TfDbTGIscnJ9"
      },
      "source": [
        "statesExplored = 0\n",
        "statesOnOptimalPath = 0"
      ],
      "execution_count": null,
      "outputs": []
    },
    {
      "cell_type": "code",
      "metadata": {
        "id": "CDncv6sycsY0"
      },
      "source": [
        "def expandNode(state, open, heuristicType,statesExplored):\n",
        "  zerothIndex = state.index(0)\n",
        "  newStates = []\n",
        "  newState = []  \n",
        "  if (zerothIndex + 1) % 3 != 0: #move blank to right\n",
        "    newState = state[:]\n",
        "    temp = state[zerothIndex + 1]\n",
        "    newState[zerothIndex + 1] = 0\n",
        "    newState[zerothIndex] = temp\n",
        "    newStates.append(newState)\n",
        "    newState = []\n",
        "  \n",
        "  if (zerothIndex % 3) != 0: #move blank to left\n",
        "    newState = state[:]\n",
        "    temp = state[zerothIndex - 1]\n",
        "    newState[zerothIndex - 1] = 0\n",
        "    newState[zerothIndex] = temp\n",
        "    newStates.append(newState)\n",
        "    newState = []\n",
        "\n",
        "  if zerothIndex not in [0,1,2]: #move blank up\n",
        "    newState = state[:]\n",
        "    temp = state[zerothIndex - 3]\n",
        "    newState[zerothIndex - 3] = 0\n",
        "    newState[zerothIndex] = temp\n",
        "    newStates.append(newState)\n",
        "    newState = []\n",
        "\n",
        "  if zerothIndex not in [6,7,8]: #move blank down\n",
        "    newState = state[:]\n",
        "    temp = newState[zerothIndex + 3]\n",
        "    newState[zerothIndex + 3] = 0\n",
        "    newState[zerothIndex] = temp\n",
        "    newStates.append(newState)\n",
        "    newState = []\n",
        "\n",
        "  for newState in newStates:\n",
        "    if newState not in open and newState not in closed:\n",
        "      statesExplored = statesExplored + 1\n",
        "      if heuristicType == 1:\n",
        "        cost.append(getHeuristicMisplacedTiles(newState, goal))\n",
        "      else:\n",
        "        cost.append(getHeuristicManhattanDistance(newState, goal))\n",
        "      open.append(newState)\n",
        "  return statesExplored\n"
      ],
      "execution_count": null,
      "outputs": []
    },
    {
      "cell_type": "code",
      "metadata": {
        "id": "5nDY2PQKluUX"
      },
      "source": [
        "def getInversionCount(state):\n",
        "    inversionCount = 0\n",
        "    for i in range(0,9):\n",
        "      for j in range(i+1,9):\n",
        "        if (state[i]>state[j] and state[i]!=0 and state[j]!= 0):\n",
        "          inversionCount = inversionCount + 1\n",
        "    print(\"inversionCount {}\".format(inversionCount))\n",
        "    return inversionCount"
      ],
      "execution_count": null,
      "outputs": []
    },
    {
      "cell_type": "code",
      "metadata": {
        "colab": {
          "base_uri": "https://localhost:8080/"
        },
        "id": "JB02wdwrl5iO",
        "outputId": "5495fb39-fafe-42e4-af84-76b4972a6796"
      },
      "source": [
        "inv = getInversionCount(start)\n",
        "if inv % 2 != 0:\n",
        "  print(\"This puzzle is not solveable\")\n",
        "else:\n",
        "  print(\"BFS search using Number of misplaced tiles as heuristic\\n\")\n",
        "  import datetime\n",
        "  t1 = datetime.datetime.now()\n",
        "  count = 1\n",
        "  while((goal not in closed) and len(open)!=0):\n",
        "    minIndex = cost.index(min(cost)) #least cost node\n",
        "    optimalCost = optimalCost + min(cost)\n",
        "    stateToExpand = open[minIndex]\n",
        "    statesOnOptimalPath = statesOnOptimalPath + 1\n",
        "    i=0\n",
        "    print(\"****************Iteration number {0}****************\".format(count))\n",
        "    while i<9:\n",
        "      if(i%3 == 0):\n",
        "        print(\"\\n\")\n",
        "      print(str(stateToExpand[i]) + '   ' + str(stateToExpand[i+1]) + '   ' + str(stateToExpand[i+2]))\n",
        "      i=i+3\n",
        "    open.remove(stateToExpand) #remove least cost node from open list\n",
        "    cost.pop(minIndex)\n",
        "    statesExplored = expandNode(stateToExpand,open,1,statesExplored)#expand least cost node\n",
        "    closed.append(stateToExpand)  #add least cost node to closed list\n",
        "    count+=1\n",
        "\n",
        "  t2 = datetime.datetime.now()\n",
        "  t3 = t2-t1\n",
        "  if(goal in closed):\n",
        "    print(\"Success in reaching from start to goal!\")\n",
        "  else:\n",
        "    print(\"No path from start to goal\")\n",
        "\n",
        "  print(\"Number of states explored: {0}\".format(statesExplored))\n",
        "  print(\"Number of states in optimal path: {0}\".format(statesOnOptimalPath))\n",
        "  print(\"Cost of optimal path: {0}\".format(optimalCost))\n",
        "\n",
        "  print(\"Time taken: {0}\".format(t3))"
      ],
      "execution_count": null,
      "outputs": [
        {
          "output_type": "stream",
          "name": "stdout",
          "text": [
            "inversionCount 2\n",
            "BFS search using Number of misplaced tiles as heuristic\n",
            "\n",
            "****************Iteration number 1****************\n",
            "\n",
            "\n",
            "1   2   3\n",
            "\n",
            "\n",
            "0   4   6\n",
            "\n",
            "\n",
            "7   5   8\n",
            "****************Iteration number 2****************\n",
            "\n",
            "\n",
            "1   2   3\n",
            "\n",
            "\n",
            "4   0   6\n",
            "\n",
            "\n",
            "7   5   8\n",
            "****************Iteration number 3****************\n",
            "\n",
            "\n",
            "1   2   3\n",
            "\n",
            "\n",
            "4   5   6\n",
            "\n",
            "\n",
            "7   0   8\n",
            "****************Iteration number 4****************\n",
            "\n",
            "\n",
            "1   2   3\n",
            "\n",
            "\n",
            "4   5   6\n",
            "\n",
            "\n",
            "7   8   0\n",
            "Success in reaching from start to goal!\n",
            "Number of states explored: 9\n",
            "Number of states in optimal path: 4\n",
            "Cost of optimal path: 6\n",
            "Time taken: 0:00:00.004452\n"
          ]
        }
      ]
    },
    {
      "cell_type": "code",
      "metadata": {
        "id": "PjIeaHvdipuG"
      },
      "source": [
        "open = []\n",
        "closed = []\n",
        "cost = []\n",
        "optimalCost = 0"
      ],
      "execution_count": null,
      "outputs": []
    },
    {
      "cell_type": "code",
      "metadata": {
        "id": "WaBYa4tnjFod"
      },
      "source": [
        "open.append(start)\n",
        "cost.append(getHeuristicMisplacedTiles(start, goal))"
      ],
      "execution_count": null,
      "outputs": []
    },
    {
      "cell_type": "code",
      "metadata": {
        "id": "dSueH_h6jG3b"
      },
      "source": [
        "statesExplored = 0\n",
        "statesOnOptimalPath = 0"
      ],
      "execution_count": null,
      "outputs": []
    },
    {
      "cell_type": "code",
      "metadata": {
        "id": "GJzZ4NeJjTem",
        "colab": {
          "base_uri": "https://localhost:8080/"
        },
        "outputId": "6459ce34-a20e-4497-ee58-db14c1246ff2"
      },
      "source": [
        "inv = getInversionCount(start)\n",
        "if inv % 2 != 0:\n",
        "  print(\"This puzzle is not solveable\")\n",
        "else:\n",
        "  print(\"BFS using Manhattan distance as heuristic\\n\")\n",
        "  import datetime\n",
        "  t1 = datetime.datetime.now()\n",
        "  count = 1\n",
        "  while((goal not in closed) and len(open)!=0):\n",
        "    minIndex = cost.index(min(cost)) #least cost node\n",
        "    optimalCost = optimalCost + min(cost)\n",
        "    stateToExpand = open[minIndex]\n",
        "    statesOnOptimalPath = statesOnOptimalPath + 1\n",
        "    i=0\n",
        "    print(\"****************Iteration number {0}****************\".format(count))\n",
        "    while i<9:\n",
        "      if(i%3 == 0):\n",
        "        print(\"\\n\")\n",
        "      print(str(stateToExpand[i]) + '   ' + str(stateToExpand[i+1]) + '   ' + str(stateToExpand[i+2]))\n",
        "      i=i+3\n",
        "    open.remove(stateToExpand) #remove least cost node from open list\n",
        "    cost.pop(minIndex)\n",
        "    statesExplored = expandNode(stateToExpand,open,2,statesExplored)#expand least cost node\n",
        "    closed.append(stateToExpand)  #add least cost node to closed list\n",
        "    count+=1\n",
        "\n",
        "  t2 = datetime.datetime.now()\n",
        "  t3 = t2-t1\n",
        "  if(goal in closed):\n",
        "    print(\"Success in reaching from start to goal!\")\n",
        "  else:\n",
        "    print(\"No path from start to goal\")\n",
        "\n",
        "  print(\"Number of states explored: {0}\".format(statesExplored))\n",
        "  print(\"Number of states in optimal path: {0}\".format(statesOnOptimalPath))\n",
        "  print(\"Cost of optimal path: {0}\".format(optimalCost))\n",
        "\n",
        "  print(\"Time taken: {0}\".format(t3))"
      ],
      "execution_count": null,
      "outputs": [
        {
          "output_type": "stream",
          "name": "stdout",
          "text": [
            "inversionCount 2\n",
            "BFS using Manhattan distance as heuristic\n",
            "\n",
            "****************Iteration number 1****************\n",
            "\n",
            "\n",
            "1   2   3\n",
            "\n",
            "\n",
            "0   4   6\n",
            "\n",
            "\n",
            "7   5   8\n",
            "****************Iteration number 2****************\n",
            "\n",
            "\n",
            "1   2   3\n",
            "\n",
            "\n",
            "4   0   6\n",
            "\n",
            "\n",
            "7   5   8\n",
            "****************Iteration number 3****************\n",
            "\n",
            "\n",
            "1   2   3\n",
            "\n",
            "\n",
            "4   5   6\n",
            "\n",
            "\n",
            "7   0   8\n",
            "****************Iteration number 4****************\n",
            "\n",
            "\n",
            "1   2   3\n",
            "\n",
            "\n",
            "4   5   6\n",
            "\n",
            "\n",
            "7   8   0\n",
            "Success in reaching from start to goal!\n",
            "Number of states explored: 9\n",
            "Number of states in optimal path: 4\n",
            "Cost of optimal path: 6\n",
            "Time taken: 0:00:00.003140\n"
          ]
        }
      ]
    }
  ]
}